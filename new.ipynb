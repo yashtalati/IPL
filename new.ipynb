{
 "cells": [
  {
   "cell_type": "code",
   "execution_count": null,
   "id": "dc36185e",
   "metadata": {},
   "outputs": [],
   "source": [
    "import pandas as pd\n",
    "import numpy as np"
   ]
  },
  {
   "cell_type": "code",
   "execution_count": null,
   "id": "d2ec8acd",
   "metadata": {},
   "outputs": [],
   "source": [
    "match = pd.read_csv('IPL_Matches_2008_2022.csv')\n",
    "delivery = pd.read_csv('IPL_Ball_by_Ball_2008_2022.csv')"
   ]
  },
  {
   "cell_type": "code",
   "execution_count": null,
   "id": "a1ef71e8",
   "metadata": {},
   "outputs": [],
   "source": [
    "total_score_df = delivery.groupby(['ID', 'innings']).sum()['total_run'].reset_index()"
   ]
  },
  {
   "cell_type": "code",
   "execution_count": null,
   "id": "e923f693",
   "metadata": {},
   "outputs": [],
   "source": [
    "total_score_df = total_score_df[total_score_df['innings'] == 1]\n",
    "total_score_df.head()"
   ]
  },
  {
   "cell_type": "code",
   "execution_count": null,
   "id": "c75bb750",
   "metadata": {},
   "outputs": [],
   "source": [
    "match_df = match.merge(total_score_df[['ID', 'total_run']], on='ID')"
   ]
  },
  {
   "cell_type": "code",
   "execution_count": null,
   "id": "1a6c54b8",
   "metadata": {},
   "outputs": [],
   "source": [
    "match_df.head(2)"
   ]
  },
  {
   "cell_type": "code",
   "execution_count": null,
   "id": "92bfc041",
   "metadata": {},
   "outputs": [],
   "source": [
    "teams = [\n",
    "    'Chennai Super Kings',\n",
    "    'Sunrisers Hyderabad',\n",
    "    'Mumbai Indians',\n",
    "    'Royal Challengers Bangalore',\n",
    "    'Kolkata Knight Riders',\n",
    "    'Punjab Kings',\n",
    "    'Rajasthan Royals',\n",
    "    'Delhi Capitals',\n",
    "    'Gujarat Titans',\n",
    "    'Lucknow Super Giants'\n",
    "]\n",
    "\n",
    "match_df.replace('Gujarat Lions', 'Gujarat Titans', inplace=True)\n",
    "match_df.replace('Delhi Daredevils', 'Delhi Capitals', inplace=True)\n",
    "match_df.replace('Pune Warriors ', 'Lucknow Super Giants', inplace=True)\n",
    "match_df.replace('Deccan Chargers', 'Sunrisers Hyderabad', inplace=True)\n",
    "match_df.replace('Rising Pune Supergiant', 'Lucknow Super Giants', inplace=True)\n",
    "match_df.replace('Kings XI Punjab', 'Punjab Kings', inplace=True)"
   ]
  },
  {
   "cell_type": "code",
   "execution_count": null,
   "id": "92f1cc78",
   "metadata": {},
   "outputs": [],
   "source": [
    "match_df = match_df[match_df['Team1'].isin(teams)]\n",
    "match_df = match_df[match_df['Team2'].isin(teams)]\n",
    "\n",
    "match_df['Team1'].unique()"
   ]
  },
  {
   "cell_type": "code",
   "execution_count": null,
   "id": "2213218a",
   "metadata": {},
   "outputs": [],
   "source": [
    "match_df['method'].unique()"
   ]
  },
  {
   "cell_type": "code",
   "execution_count": null,
   "id": "ec1fc3f6",
   "metadata": {},
   "outputs": [],
   "source": [
    "match_df = match_df[match_df['method'] != 'D/L']"
   ]
  },
  {
   "cell_type": "code",
   "execution_count": null,
   "id": "b7d8f09a",
   "metadata": {},
   "outputs": [],
   "source": [
    "fdf= match_df"
   ]
  },
  {
   "cell_type": "code",
   "execution_count": null,
   "id": "2ef276a0",
   "metadata": {},
   "outputs": [],
   "source": [
    "fdf = match_df[['ID', 'City', 'WinningTeam', 'total_run' , 'Team1' , 'Team2']]"
   ]
  },
  {
   "cell_type": "code",
   "execution_count": null,
   "id": "513601c5",
   "metadata": {},
   "outputs": [],
   "source": [
    "fdf"
   ]
  },
  {
   "cell_type": "code",
   "execution_count": null,
   "id": "263ccda1",
   "metadata": {},
   "outputs": [],
   "source": [
    "delivery_df =  fdf.merge(delivery, on='ID')"
   ]
  },
  {
   "cell_type": "code",
   "execution_count": null,
   "id": "86abe5ee",
   "metadata": {},
   "outputs": [],
   "source": [
    "delivery_df = delivery_df[delivery_df['innings'] == 2]"
   ]
  },
  {
   "cell_type": "code",
   "execution_count": null,
   "id": "a26ff8b4",
   "metadata": {},
   "outputs": [],
   "source": [
    "delivery_df['current_score']= delivery_df.groupby('ID').cumsum()['total_run_y']"
   ]
  },
  {
   "cell_type": "code",
   "execution_count": null,
   "id": "f30e685f",
   "metadata": {},
   "outputs": [],
   "source": [
    "delivery_df['runs_left']= delivery_df['total_run_x'] - delivery_df['current_score']"
   ]
  },
  {
   "cell_type": "code",
   "execution_count": null,
   "id": "1a9409da",
   "metadata": {},
   "outputs": [],
   "source": [
    "delivery_df.head(6)"
   ]
  },
  {
   "cell_type": "code",
   "execution_count": null,
   "id": "0c4b73e0",
   "metadata": {},
   "outputs": [],
   "source": [
    "delivery_df['balls_left']= 120 - (delivery_df['overs']*6 + delivery_df['ballnumber'])"
   ]
  },
  {
   "cell_type": "code",
   "execution_count": null,
   "id": "1f63849f",
   "metadata": {},
   "outputs": [],
   "source": [
    "delivery_df['player_out'] = delivery_df['player_out'].fillna(\"0\")"
   ]
  },
  {
   "cell_type": "code",
   "execution_count": null,
   "id": "2b4ebb4d",
   "metadata": {},
   "outputs": [],
   "source": [
    "delivery_df['player_out'] = delivery_df['player_out'].apply(lambda x:x if x=='0' else \"1\")"
   ]
  },
  {
   "cell_type": "code",
   "execution_count": null,
   "id": "fb85baa7",
   "metadata": {},
   "outputs": [],
   "source": [
    "delivery_df.tail(5)"
   ]
  },
  {
   "cell_type": "code",
   "execution_count": null,
   "id": "bd75e1c9",
   "metadata": {},
   "outputs": [],
   "source": [
    "delivery_df['player_out'] = delivery_df['player_out'].astype('int')\n",
    "wicket = delivery_df.groupby('ID').cumsum()['player_out'].values\n",
    "delivery_df['wicket'] = 10-wicket "
   ]
  },
  {
   "cell_type": "code",
   "execution_count": null,
   "id": "5fbfe621",
   "metadata": {},
   "outputs": [],
   "source": [
    "delivery_df['crr']=  (delivery_df['current_score']*6) / (120-delivery_df['balls_left'])\n",
    "delivery_df['rrr']=  (delivery_df['runs_left']*6)/(delivery_df['balls_left'])"
   ]
  },
  {
   "cell_type": "code",
   "execution_count": null,
   "id": "37dbbbbf",
   "metadata": {},
   "outputs": [],
   "source": [
    "delivery_df.head(10)"
   ]
  },
  {
   "cell_type": "code",
   "execution_count": null,
   "id": "ac0de8e3",
   "metadata": {},
   "outputs": [],
   "source": [
    "def result(row):\n",
    "    return 1 if row['BattingTeam'] == row['WinningTeam'] else 0"
   ]
  },
  {
   "cell_type": "code",
   "execution_count": null,
   "id": "ce45417c",
   "metadata": {
    "scrolled": true
   },
   "outputs": [],
   "source": [
    "delivery_df['result'] = delivery_df.apply(result, axis=1)\n",
    "delivery_df.tail(1)"
   ]
  },
  {
   "cell_type": "code",
   "execution_count": null,
   "id": "552480b9",
   "metadata": {},
   "outputs": [],
   "source": [
    "d = delivery_df\n",
    "\n",
    "Team1_mask = d['BattingTeam'] == d['Team1']\n",
    "\n",
    "Team2_mask = d['BattingTeam'] == d['Team2']\n",
    "\n",
    "d['BowlingTeam'] = np.where(Team1_mask, d['Team2'], d['Team1'])"
   ]
  },
  {
   "cell_type": "code",
   "execution_count": null,
   "id": "310a5638",
   "metadata": {},
   "outputs": [],
   "source": [
    "final_df = d[['BattingTeam', 'BowlingTeam', 'City', 'runs_left', 'balls_left', 'wicket', 'total_run_x', 'crr', 'rrr', 'result']]"
   ]
  },
  {
   "cell_type": "code",
   "execution_count": null,
   "id": "d718ed43",
   "metadata": {},
   "outputs": [],
   "source": [
    "final_df"
   ]
  },
  {
   "cell_type": "code",
   "execution_count": null,
   "id": "da76f74a",
   "metadata": {},
   "outputs": [],
   "source": [
    "teams = [\n",
    "    'Chennai Super Kings',\n",
    "    'Sunrisers Hyderabad',\n",
    "    'Mumbai Indians',\n",
    "    'Royal Challengers Bangalore',\n",
    "    'Kolkata Knight Riders',\n",
    "    'Punjab Kings',\n",
    "    'Rajasthan Royals',\n",
    "    'Delhi Capitals',\n",
    "    'Gujarat Titans',\n",
    "    'Lucknow Super Giants'\n",
    "]\n",
    "\n",
    "final_df.replace('Gujarat Lions', 'Gujarat Titans', inplace=True)\n",
    "final_df.replace('Delhi Daredevils', 'Delhi Capitals', inplace=True)\n",
    "final_df.replace('Pune Warriors ', 'Lucknow Super Giants', inplace=True)\n",
    "final_df.replace('Deccan Chargers', 'Sunrisers Hyderabad', inplace=True)\n",
    "final_df.replace('Rising Pune Supergiant', 'Lucknow Super Giants', inplace=True)\n",
    "final_df.replace('Kings XI Punjab', 'Punjab Kings', inplace=True)"
   ]
  },
  {
   "cell_type": "code",
   "execution_count": null,
   "id": "1486b1fd",
   "metadata": {},
   "outputs": [],
   "source": [
    "final_df = final_df[final_df['BattingTeam'].isin(teams)]\n",
    "final_df = final_df[final_df['BowlingTeam'].isin(teams)]\n",
    "\n",
    "final_df['BattingTeam'].unique()"
   ]
  },
  {
   "cell_type": "code",
   "execution_count": null,
   "id": "48a6db30",
   "metadata": {},
   "outputs": [],
   "source": [
    "final_df.sample()"
   ]
  },
  {
   "cell_type": "code",
   "execution_count": null,
   "id": "f800f243",
   "metadata": {},
   "outputs": [],
   "source": [
    "final_df.dropna(inplace=True)"
   ]
  },
  {
   "cell_type": "code",
   "execution_count": null,
   "id": "5efb450b",
   "metadata": {},
   "outputs": [],
   "source": [
    "final_df.shape"
   ]
  },
  {
   "cell_type": "code",
   "execution_count": null,
   "id": "e78b1742",
   "metadata": {},
   "outputs": [],
   "source": [
    "final_df = final_df[final_df['balls_left'] != 0]"
   ]
  },
  {
   "cell_type": "code",
   "execution_count": null,
   "id": "aad87d4b",
   "metadata": {},
   "outputs": [],
   "source": [
    "x = final_df.iloc[:, :-1]\n",
    "y = final_df.iloc[:,-1]"
   ]
  },
  {
   "cell_type": "code",
   "execution_count": null,
   "id": "54ad6781",
   "metadata": {},
   "outputs": [],
   "source": [
    "from sklearn.model_selection import train_test_split\n",
    "x_train, x_test, y_train, y_test = train_test_split(x,y, test_size=0.2, random_state=42)"
   ]
  },
  {
   "cell_type": "code",
   "execution_count": null,
   "id": "40693b87",
   "metadata": {},
   "outputs": [],
   "source": [
    "x_train"
   ]
  },
  {
   "cell_type": "code",
   "execution_count": null,
   "id": "1038c126",
   "metadata": {},
   "outputs": [],
   "source": [
    "x_test"
   ]
  },
  {
   "cell_type": "code",
   "execution_count": null,
   "id": "9aecb960",
   "metadata": {},
   "outputs": [],
   "source": [
    "x_train.info()"
   ]
  },
  {
   "cell_type": "code",
   "execution_count": null,
   "id": "a61346ea",
   "metadata": {},
   "outputs": [],
   "source": [
    "from sklearn.compose import ColumnTransformer\n",
    "from sklearn.preprocessing import OneHotEncoder\n",
    "\n",
    "trf = ColumnTransformer([\n",
    "    ('trf', OneHotEncoder(sparse=False, drop='first'),['BattingTeam', 'BowlingTeam', 'City'])\n",
    "]\n",
    ",remainder='passthrough')"
   ]
  },
  {
   "cell_type": "code",
   "execution_count": null,
   "id": "27bd2484",
   "metadata": {},
   "outputs": [],
   "source": [
    "from sklearn.linear_model import LogisticRegression\n",
    "from sklearn.pipeline import Pipeline\n",
    "\n",
    "pipe = Pipeline(steps=[\n",
    "    ('step1', trf),\n",
    "    ('step2', LogisticRegression(solver='liblinear'))\n",
    "])\n",
    "\n",
    "pipe.fit(x_train, y_train)\n"
   ]
  },
  {
   "cell_type": "code",
   "execution_count": null,
   "id": "b56331fd",
   "metadata": {},
   "outputs": [],
   "source": [
    "y_pred = pipe.predict(x_test)"
   ]
  },
  {
   "cell_type": "code",
   "execution_count": null,
   "id": "3c770004",
   "metadata": {},
   "outputs": [],
   "source": [
    "y_pred"
   ]
  },
  {
   "cell_type": "code",
   "execution_count": null,
   "id": "e0ee4871",
   "metadata": {},
   "outputs": [],
   "source": [
    "from sklearn.metrics import accuracy_score\n",
    "accuracy_score(y_test, y_pred)"
   ]
  },
  {
   "cell_type": "code",
   "execution_count": null,
   "id": "e8b6c4c7",
   "metadata": {},
   "outputs": [],
   "source": [
    "pipe.predict_proba(x_test)[10]"
   ]
  }
 ],
 "metadata": {
  "kernelspec": {
   "display_name": "Python 3 (ipykernel)",
   "language": "python",
   "name": "python3"
  },
  "language_info": {
   "codemirror_mode": {
    "name": "ipython",
    "version": 3
   },
   "file_extension": ".py",
   "mimetype": "text/x-python",
   "name": "python",
   "nbconvert_exporter": "python",
   "pygments_lexer": "ipython3",
   "version": "3.9.1"
  }
 },
 "nbformat": 4,
 "nbformat_minor": 5
}
